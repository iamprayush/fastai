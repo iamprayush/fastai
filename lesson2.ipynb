{
  "nbformat": 4,
  "nbformat_minor": 0,
  "metadata": {
    "colab": {
      "name": "lesson2.ipynb",
      "version": "0.3.2",
      "provenance": [],
      "collapsed_sections": [
        "70wuh52IupCD"
      ],
      "include_colab_link": true
    },
    "kernelspec": {
      "name": "python3",
      "display_name": "Python 3"
    },
    "accelerator": "GPU"
  },
  "cells": [
    {
      "cell_type": "markdown",
      "metadata": {
        "id": "view-in-github",
        "colab_type": "text"
      },
      "source": [
        "<a href=\"https://colab.research.google.com/github/whobbes/fastai/blob/master/lesson2.ipynb\" target=\"_parent\"><img src=\"https://colab.research.google.com/assets/colab-badge.svg\" alt=\"Open In Colab\"/></a>"
      ]
    },
    {
      "metadata": {
        "id": "uE6IlIJHvBkn",
        "colab_type": "text"
      },
      "cell_type": "markdown",
      "source": [
        "## Fast AI setup\n"
      ]
    },
    {
      "metadata": {
        "id": "dHhFLEPX1Ccu",
        "colab_type": "code",
        "colab": {}
      },
      "cell_type": "code",
      "source": [
        "# Check python version\n",
        "import sys\n",
        "print(sys.version)\n",
        "\n",
        "# Get libraries\n",
        "!pip install fastai==0.7.0\n",
        "!pip install torchtext==0.2.3\n",
        "!pip3 install http://download.pytorch.org/whl/cu80/torch-0.3.0.post4-cp36-cp36m-linux_x86_64.whl \n",
        "!pip3 install torchvision\n",
        "\n",
        "# memory footprint support libraries/code\n",
        "!ln -sf /opt/bin/nvidia-smi /usr/bin/nvidia-smi\n",
        "!pip install gputil\n",
        "!pip install psutil\n",
        "!pip install humanize"
      ],
      "execution_count": 0,
      "outputs": []
    },
    {
      "metadata": {
        "id": "Kum0d5Iq1Htf",
        "colab_type": "text"
      },
      "cell_type": "markdown",
      "source": [
        "## GPU test"
      ]
    },
    {
      "metadata": {
        "id": "qoL_txnJvU11",
        "colab_type": "code",
        "colab": {}
      },
      "cell_type": "code",
      "source": [
        "import psutil\n",
        "import humanize\n",
        "import os\n",
        "import GPUtil as GPU\n",
        "GPUs = GPU.getGPUs()\n",
        "# XXX: only one GPU on Colab and isn’t guaranteed\n",
        "gpu = GPUs[0]\n",
        "def printm():\n",
        " process = psutil.Process(os.getpid())\n",
        " print(\"Gen RAM Free: \" + humanize.naturalsize( psutil.virtual_memory().available ), \" | Proc size: \" + humanize.naturalsize( process.memory_info().rss))\n",
        " print(\"GPU RAM Free: {0:.0f}MB | Used: {1:.0f}MB | Util {2:3.0f}% | Total {3:.0f}MB\".format(gpu.memoryFree, gpu.memoryUsed, gpu.memoryUtil*100, gpu.memoryTotal))\n",
        "printm()"
      ],
      "execution_count": 0,
      "outputs": []
    },
    {
      "metadata": {
        "id": "35OHz3uT1V9i",
        "colab_type": "text"
      },
      "cell_type": "markdown",
      "source": [
        "## Get data from Kaggle"
      ]
    },
    {
      "metadata": {
        "id": "dgU-MDVuG8_Z",
        "colab_type": "text"
      },
      "cell_type": "markdown",
      "source": [
        "Before runnning below code:\n",
        "\n",
        "*   Go on Kaggle, create account if needed, login\n",
        "*   Go to competition page > Planet: Understanding the Amazon from Space > Data > accept competition rules\n",
        "*   Get API key in the form of a kaggle.json file to put at the root of your google Drive\n",
        "\n",
        "\n"
      ]
    },
    {
      "metadata": {
        "id": "62tIF4JT1VjV",
        "colab_type": "code",
        "colab": {}
      },
      "cell_type": "code",
      "source": [
        "# Install the Kaggle API\n",
        "!pip3 install kaggle\n",
        "\n",
        "\n",
        "# Import kaggle.json from Google Drive\n",
        "# This snippet will output a link which needs authentication from any Google account\n",
        "\n",
        "from googleapiclient.discovery import build\n",
        "import io, os\n",
        "from googleapiclient.http import MediaIoBaseDownload\n",
        "from google.colab import auth\n",
        "\n",
        "auth.authenticate_user()"
      ],
      "execution_count": 0,
      "outputs": []
    },
    {
      "metadata": {
        "id": "AGq8Ke033Qxe",
        "colab_type": "code",
        "colab": {}
      },
      "cell_type": "code",
      "source": [
        "drive_service = build('drive', 'v3')\n",
        "results = drive_service.files().list(\n",
        "        q=\"name = 'kaggle.json'\", fields=\"files(id)\").execute()\n",
        "kaggle_api_key = results.get('files', [])\n",
        "\n",
        "filename = \"/root/.kaggle/kaggle.json\"\n",
        "os.makedirs(os.path.dirname(filename), exist_ok=True)\n",
        "request = drive_service.files().get_media(fileId=kaggle_api_key[0]['id'])\n",
        "fh = io.FileIO(filename, 'wb')\n",
        "downloader = MediaIoBaseDownload(fh, request)\n",
        "done = False\n",
        "while done is False:\n",
        "    status, done = downloader.next_chunk()\n",
        "    print(\"Download %d%%.\" % int(status.progress() * 100))\n",
        "os.chmod(filename, 600)"
      ],
      "execution_count": 0,
      "outputs": []
    },
    {
      "metadata": {
        "id": "5VTm60sS1Ku3",
        "colab_type": "code",
        "colab": {}
      },
      "cell_type": "code",
      "source": [
        "#List the files for the Planet data\n",
        "!kaggle competitions files -c planet-understanding-the-amazon-from-space"
      ],
      "execution_count": 0,
      "outputs": []
    },
    {
      "metadata": {
        "id": "n6FTWNF0Aj_D",
        "colab_type": "code",
        "colab": {}
      },
      "cell_type": "code",
      "source": [
        "# -c: competition name\n",
        "# -f: which file you want to download\n",
        "# -p: path to where the file should be saved\n",
        "\n",
        "# Rules for competition need to be accepted before this works\n",
        "!kaggle competitions download -c planet-understanding-the-amazon-from-space -f train-jpg.tar.7z -p ~/data/planet/\n",
        "!kaggle competitions download -c planet-understanding-the-amazon-from-space -f test-jpg.tar.7z -p ~/data/planet/\n",
        "!kaggle competitions download -c planet-understanding-the-amazon-from-space -f train_v2.csv.zip -p ~/data/planet/\n",
        "\n",
        "# In order to unzip the 7z files, need to install p7zip\n",
        "# This was helpful: http://forums.fast.ai/t/unzipping-tar-7z-files-in-google-collab-notebook/14857/4\n",
        "!apt-get install p7zip-full"
      ],
      "execution_count": 0,
      "outputs": []
    },
    {
      "metadata": {
        "id": "xRILREz6AS_U",
        "colab_type": "code",
        "colab": {}
      },
      "cell_type": "code",
      "source": [
        "# Unzip the 7zip files\n",
        "# -d: which file to un7zip\n",
        "!p7zip -d ~/data/planet/test-jpg.tar.7z \n",
        "!p7zip -d ~/data/planet/train-jpg.tar.7z"
      ],
      "execution_count": 0,
      "outputs": []
    },
    {
      "metadata": {
        "id": "TmRvmeMFSNzv",
        "colab_type": "code",
        "colab": {}
      },
      "cell_type": "code",
      "source": [
        "# Unzip the .tar files\n",
        "!tar -xf test-jpg.tar\n",
        "!tar -xf train-jpg.tar\n",
        "\n",
        "# Move the unzipped folders into data/planet/\n",
        "!mv test-jpg ~/data/planet/ && mv train-jpg ~/data/planet/\n",
        "\n",
        "# Unzip the regular file\n",
        "!unzip ~/data/planet/train_v2.csv.zip -d ~/data/planet/\n",
        "\n",
        "# Make sure everything looks as it should:\n",
        "!ls ~/data/planet/"
      ],
      "execution_count": 0,
      "outputs": []
    },
    {
      "metadata": {
        "id": "Ou9gVOFGQYvo",
        "colab_type": "code",
        "colab": {}
      },
      "cell_type": "code",
      "source": [
        "!ls /root/data/planet"
      ],
      "execution_count": 0,
      "outputs": []
    },
    {
      "metadata": {
        "id": "lrkVN56SupAT",
        "colab_type": "text"
      },
      "cell_type": "markdown",
      "source": [
        "## Multi-label classification"
      ]
    },
    {
      "metadata": {
        "id": "P6v_kpmZupAU",
        "colab_type": "code",
        "colab": {}
      },
      "cell_type": "code",
      "source": [
        "# %reload_ext autoreload\n",
        "# %autoreload 2\n",
        "%matplotlib inline"
      ],
      "execution_count": 0,
      "outputs": []
    },
    {
      "metadata": {
        "id": "UH9Dvww5upAY",
        "colab_type": "code",
        "colab": {}
      },
      "cell_type": "code",
      "source": [
        "from fastai.conv_learner import *"
      ],
      "execution_count": 0,
      "outputs": []
    },
    {
      "metadata": {
        "id": "nd37zz0DupAa",
        "colab_type": "code",
        "colab": {}
      },
      "cell_type": "code",
      "source": [
        "PATH = '/root/data/planet/'"
      ],
      "execution_count": 0,
      "outputs": []
    },
    {
      "metadata": {
        "id": "_SgMaS6PupAe",
        "colab_type": "code",
        "colab": {}
      },
      "cell_type": "code",
      "source": [
        "# Data preparation steps if you are using Crestle:\n",
        "\n",
        "# os.makedirs('data/planet/models', exist_ok=True)\n",
        "# os.makedirs('/cache/planet/tmp', exist_ok=True)\n",
        "\n",
        "# !ln -s /datasets/kaggle/planet-understanding-the-amazon-from-space/train-jpg {PATH}\n",
        "# !ln -s /datasets/kaggle/planet-understanding-the-amazon-from-space/test-jpg {PATH}\n",
        "# !ln -s /datasets/kaggle/planet-understanding-the-amazon-from-space/train_v2.csv {PATH}\n",
        "# !ln -s /cache/planet/tmp {PATH}"
      ],
      "execution_count": 0,
      "outputs": []
    },
    {
      "metadata": {
        "id": "wkW8FqcLupAg",
        "colab_type": "code",
        "colab": {}
      },
      "cell_type": "code",
      "source": [
        "ls {PATH}"
      ],
      "execution_count": 0,
      "outputs": []
    },
    {
      "metadata": {
        "id": "Bwp62-7pupAk",
        "colab_type": "text"
      },
      "cell_type": "markdown",
      "source": [
        "## Multi-label versus single-label classification"
      ]
    },
    {
      "metadata": {
        "id": "hvVMajlIupAm",
        "colab_type": "code",
        "colab": {}
      },
      "cell_type": "code",
      "source": [
        "from fastai.plots import *"
      ],
      "execution_count": 0,
      "outputs": []
    },
    {
      "metadata": {
        "id": "F_aV0KsXupAo",
        "colab_type": "code",
        "colab": {}
      },
      "cell_type": "code",
      "source": [
        "def get_1st(path): return glob(f'{path}/*.*')[0]"
      ],
      "execution_count": 0,
      "outputs": []
    },
    {
      "metadata": {
        "id": "Bh9gLm3GupAq",
        "colab_type": "code",
        "colab": {}
      },
      "cell_type": "code",
      "source": [
        "dc_path = \"data/dogscats/valid/\"\n",
        "list_paths = [get_1st(f\"{dc_path}cats\"), get_1st(f\"{dc_path}dogs\")]\n",
        "plots_from_files(list_paths, titles=[\"cat\", \"dog\"], maintitle=\"Single-label classification\")"
      ],
      "execution_count": 0,
      "outputs": []
    },
    {
      "metadata": {
        "id": "4OA4bpiLupAu",
        "colab_type": "text"
      },
      "cell_type": "markdown",
      "source": [
        "In single-label classification each sample belongs to one class. In the previous example, each image is either a *dog* or a *cat*."
      ]
    },
    {
      "metadata": {
        "id": "cxQ2WM0zupAu",
        "colab_type": "code",
        "colab": {}
      },
      "cell_type": "code",
      "source": [
        "list_paths = [f\"{PATH}train-jpg/train_0.jpg\", f\"{PATH}train-jpg/train_1.jpg\"]\n",
        "titles=[\"haze primary\", \"agriculture clear primary water\"]\n",
        "plots_from_files(list_paths, titles=titles, maintitle=\"Multi-label classification\")"
      ],
      "execution_count": 0,
      "outputs": []
    },
    {
      "metadata": {
        "id": "LpHOtwTVupAy",
        "colab_type": "text"
      },
      "cell_type": "markdown",
      "source": [
        "In multi-label classification each sample can belong to one or more classes. In the previous example, the first image belongs to two classes: *haze* and *primary*. The second image belongs to four classes: *agriculture*, *clear*, *primary* and  *water*."
      ]
    },
    {
      "metadata": {
        "id": "SpT2pb3supAz",
        "colab_type": "text"
      },
      "cell_type": "markdown",
      "source": [
        "## Multi-label models for Planet dataset"
      ]
    },
    {
      "metadata": {
        "id": "NQjUcdWzkI3N",
        "colab_type": "code",
        "colab": {}
      },
      "cell_type": "code",
      "source": [
        "# Planet.py from fastai repo\n",
        "from fastai.imports import *\n",
        "from fastai.transforms import *\n",
        "from fastai.dataset import *\n",
        "from sklearn.metrics import fbeta_score\n",
        "import warnings\n",
        "\n",
        "def f2(preds, targs, start=0.17, end=0.24, step=0.01):\n",
        "    with warnings.catch_warnings():\n",
        "        warnings.simplefilter(\"ignore\")\n",
        "        return max([fbeta_score(targs, (preds>th), 2, average='samples')\n",
        "                    for th in np.arange(start,end,step)])\n",
        "\n",
        "def opt_th(preds, targs, start=0.17, end=0.24, step=0.01):\n",
        "    ths = np.arange(start,end,step)\n",
        "    idx = np.argmax([fbeta_score(targs, (preds>th), 2, average='samples')\n",
        "                for th in ths])\n",
        "    return ths[idx]\n",
        "\n",
        "def get_data(path, tfms,bs,  n, cv_idx):\n",
        "    val_idxs = get_cv_idxs(n, cv_idx)\n",
        "    return ImageClassifierData.from_csv(path, 'train-jpg', f'{path}train_v2.csv', bs, tfms,\n",
        "                                 suffix='.jpg', val_idxs=val_idxs, test_name='test-jpg')\n",
        "\n",
        "def get_data_zoom(f_model, path, sz, bs, n, cv_idx):\n",
        "    tfms = tfms_from_model(f_model, sz, aug_tfms=transforms_top_down, max_zoom=1.05)\n",
        "    return get_data(path, tfms, bs, n, cv_idx)\n",
        "\n",
        "def get_data_pad(f_model, path, sz, bs, n, cv_idx):\n",
        "    transforms_pt = [RandomRotateZoom(9, 0.18, 0.1), RandomLighting(0.05, 0.1), RandomDihedral()]\n",
        "    tfms = tfms_from_model(f_model, sz, aug_tfms=transforms_pt, pad=sz//12)\n",
        "    return get_data(path, tfms, bs, n, cv_idx)"
      ],
      "execution_count": 0,
      "outputs": []
    },
    {
      "metadata": {
        "id": "sVHRrK3mupAz",
        "colab_type": "code",
        "colab": {}
      },
      "cell_type": "code",
      "source": [
        "#from planet import f2\n",
        "\n",
        "metrics=[f2]\n",
        "f_model = resnet34"
      ],
      "execution_count": 0,
      "outputs": []
    },
    {
      "metadata": {
        "id": "7M2_4RZ1upA1",
        "colab_type": "code",
        "colab": {}
      },
      "cell_type": "code",
      "source": [
        "label_csv = f'{PATH}train_v2.csv'\n",
        "n = len(list(open(label_csv)))-1\n",
        "val_idxs = get_cv_idxs(n)"
      ],
      "execution_count": 0,
      "outputs": []
    },
    {
      "metadata": {
        "id": "yJ0tTBndupA4",
        "colab_type": "text"
      },
      "cell_type": "markdown",
      "source": [
        "We use a different set of data augmentations for this dataset - we also allow vertical flips, since we don't expect vertical orientation of satellite images to change our classifications."
      ]
    },
    {
      "metadata": {
        "id": "svPfza2eupA5",
        "colab_type": "code",
        "colab": {}
      },
      "cell_type": "code",
      "source": [
        "def get_data(sz):\n",
        "    tfms = tfms_from_model(f_model, sz, aug_tfms=transforms_top_down, max_zoom=1.05)\n",
        "    return ImageClassifierData.from_csv(PATH, 'train-jpg', label_csv, tfms=tfms,\n",
        "                    suffix='.jpg', val_idxs=val_idxs, test_name='test-jpg')"
      ],
      "execution_count": 0,
      "outputs": []
    },
    {
      "metadata": {
        "id": "z981CnowupA7",
        "colab_type": "code",
        "colab": {}
      },
      "cell_type": "code",
      "source": [
        "data = get_data(256)"
      ],
      "execution_count": 0,
      "outputs": []
    },
    {
      "metadata": {
        "id": "iY9gdFK3upA-",
        "colab_type": "code",
        "colab": {}
      },
      "cell_type": "code",
      "source": [
        "x,y = next(iter(data.val_dl))"
      ],
      "execution_count": 0,
      "outputs": []
    },
    {
      "metadata": {
        "id": "gzy9OgbEupBB",
        "colab_type": "code",
        "colab": {}
      },
      "cell_type": "code",
      "source": [
        "y"
      ],
      "execution_count": 0,
      "outputs": []
    },
    {
      "metadata": {
        "id": "PbXerTwLupBG",
        "colab_type": "code",
        "colab": {}
      },
      "cell_type": "code",
      "source": [
        "list(zip(data.classes, y[0]))"
      ],
      "execution_count": 0,
      "outputs": []
    },
    {
      "metadata": {
        "id": "mdt9hhSYupBK",
        "colab_type": "code",
        "colab": {}
      },
      "cell_type": "code",
      "source": [
        "plt.imshow(data.val_ds.denorm(to_np(x))[0]*1.4);"
      ],
      "execution_count": 0,
      "outputs": []
    },
    {
      "metadata": {
        "id": "ZMOO_HptupBM",
        "colab_type": "code",
        "colab": {}
      },
      "cell_type": "code",
      "source": [
        "sz=64"
      ],
      "execution_count": 0,
      "outputs": []
    },
    {
      "metadata": {
        "id": "_feveC8eupBO",
        "colab_type": "code",
        "colab": {}
      },
      "cell_type": "code",
      "source": [
        "data = get_data(sz)"
      ],
      "execution_count": 0,
      "outputs": []
    },
    {
      "metadata": {
        "id": "fqI6Gt-mupBR",
        "colab_type": "code",
        "colab": {}
      },
      "cell_type": "code",
      "source": [
        "data = data.resize(int(sz*1.3), 'tmp')"
      ],
      "execution_count": 0,
      "outputs": []
    },
    {
      "metadata": {
        "id": "WSPeZnXxupBU",
        "colab_type": "code",
        "colab": {}
      },
      "cell_type": "code",
      "source": [
        "learn = ConvLearner.pretrained(f_model, data, metrics=metrics)"
      ],
      "execution_count": 0,
      "outputs": []
    },
    {
      "metadata": {
        "id": "HjzEhI5TupBW",
        "colab_type": "code",
        "colab": {}
      },
      "cell_type": "code",
      "source": [
        "lrf=learn.lr_find()\n",
        "learn.sched.plot()"
      ],
      "execution_count": 0,
      "outputs": []
    },
    {
      "metadata": {
        "id": "PIQOFsJzupBZ",
        "colab_type": "code",
        "colab": {}
      },
      "cell_type": "code",
      "source": [
        "lr = 0.2"
      ],
      "execution_count": 0,
      "outputs": []
    },
    {
      "metadata": {
        "id": "2SlEV9OjupBa",
        "colab_type": "code",
        "colab": {}
      },
      "cell_type": "code",
      "source": [
        "learn.fit(lr, 3, cycle_len=1, cycle_mult=2)"
      ],
      "execution_count": 0,
      "outputs": []
    },
    {
      "metadata": {
        "id": "YnxQgNALupBd",
        "colab_type": "code",
        "colab": {}
      },
      "cell_type": "code",
      "source": [
        "lrs = np.array([lr/9,lr/3,lr])"
      ],
      "execution_count": 0,
      "outputs": []
    },
    {
      "metadata": {
        "id": "FPbWEF9rupBf",
        "colab_type": "code",
        "colab": {}
      },
      "cell_type": "code",
      "source": [
        "learn.unfreeze()\n",
        "learn.fit(lrs, 3, cycle_len=1, cycle_mult=2)"
      ],
      "execution_count": 0,
      "outputs": []
    },
    {
      "metadata": {
        "id": "9Vn37TbRupBj",
        "colab_type": "code",
        "colab": {}
      },
      "cell_type": "code",
      "source": [
        "learn.save(f'{sz}')"
      ],
      "execution_count": 0,
      "outputs": []
    },
    {
      "metadata": {
        "id": "l-AdH5LwupBl",
        "colab_type": "code",
        "colab": {}
      },
      "cell_type": "code",
      "source": [
        "learn.sched.plot_loss()"
      ],
      "execution_count": 0,
      "outputs": []
    },
    {
      "metadata": {
        "id": "tM8JsPhBupBo",
        "colab_type": "code",
        "colab": {}
      },
      "cell_type": "code",
      "source": [
        "sz=128"
      ],
      "execution_count": 0,
      "outputs": []
    },
    {
      "metadata": {
        "id": "WpDC5n4EupBr",
        "colab_type": "code",
        "colab": {}
      },
      "cell_type": "code",
      "source": [
        "learn.set_data(get_data(sz))\n",
        "learn.freeze()\n",
        "learn.fit(lr, 3, cycle_len=1, cycle_mult=2)"
      ],
      "execution_count": 0,
      "outputs": []
    },
    {
      "metadata": {
        "id": "7CLMFy5IupBv",
        "colab_type": "code",
        "colab": {}
      },
      "cell_type": "code",
      "source": [
        "learn.unfreeze()\n",
        "learn.fit(lrs, 3, cycle_len=1, cycle_mult=2)\n",
        "learn.save(f'{sz}')"
      ],
      "execution_count": 0,
      "outputs": []
    },
    {
      "metadata": {
        "id": "kiPR453yupBy",
        "colab_type": "code",
        "colab": {}
      },
      "cell_type": "code",
      "source": [
        "sz=256"
      ],
      "execution_count": 0,
      "outputs": []
    },
    {
      "metadata": {
        "id": "VKLtesv3upB0",
        "colab_type": "code",
        "colab": {}
      },
      "cell_type": "code",
      "source": [
        "learn.set_data(get_data(sz))\n",
        "learn.freeze()\n",
        "learn.fit(lr, 3, cycle_len=1, cycle_mult=2)"
      ],
      "execution_count": 0,
      "outputs": []
    },
    {
      "metadata": {
        "id": "m83SHbB6upB3",
        "colab_type": "code",
        "colab": {}
      },
      "cell_type": "code",
      "source": [
        "learn.unfreeze()\n",
        "learn.fit(lrs, 3, cycle_len=1, cycle_mult=2)\n",
        "learn.save(f'{sz}')"
      ],
      "execution_count": 0,
      "outputs": []
    },
    {
      "metadata": {
        "id": "sBkansPFupB6",
        "colab_type": "code",
        "colab": {}
      },
      "cell_type": "code",
      "source": [
        "multi_preds, y = learn.TTA()\n",
        "preds = np.mean(multi_preds, 0)"
      ],
      "execution_count": 0,
      "outputs": []
    },
    {
      "metadata": {
        "id": "3Nakcb-aupB9",
        "colab_type": "code",
        "colab": {}
      },
      "cell_type": "code",
      "source": [
        "f2(preds,y)"
      ],
      "execution_count": 0,
      "outputs": []
    },
    {
      "metadata": {
        "id": "70wuh52IupCD",
        "colab_type": "text"
      },
      "cell_type": "markdown",
      "source": [
        "### End"
      ]
    }
  ]
}